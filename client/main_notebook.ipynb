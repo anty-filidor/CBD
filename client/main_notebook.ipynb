{
 "cells": [
  {
   "cell_type": "code",
   "execution_count": null,
   "id": "2a209f8c",
   "metadata": {},
   "outputs": [],
   "source": [
    "from client import CBDClient"
   ]
  },
  {
   "cell_type": "code",
   "execution_count": null,
   "id": "9b044c59",
   "metadata": {},
   "outputs": [],
   "source": [
    "client = CBDClient(\"http://0.0.0.0:5000/\")\n",
    "client.set_up_connection()\n",
    "print(client.hello())\n",
    "print(client.classify_string(\"blablablabla\"))\n",
    "print(client.classify_string(3))  # type: ignore\n",
    "print(client.get_model_info(\"xd\"))"
   ]
  },
  {
   "cell_type": "code",
   "execution_count": null,
   "id": "dad3c155",
   "metadata": {},
   "outputs": [],
   "source": []
  }
 ],
 "metadata": {
  "kernelspec": {
   "display_name": "CBD",
   "language": "python",
   "name": "cbd"
  },
  "language_info": {
   "codemirror_mode": {
    "name": "ipython",
    "version": 3
   },
   "file_extension": ".py",
   "mimetype": "text/x-python",
   "name": "python",
   "nbconvert_exporter": "python",
   "pygments_lexer": "ipython3",
   "version": "3.6.9"
  }
 },
 "nbformat": 4,
 "nbformat_minor": 5
}
