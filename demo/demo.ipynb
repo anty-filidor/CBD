{
 "cells": [
  {
   "cell_type": "code",
   "execution_count": null,
   "id": "2a209f8c",
   "metadata": {},
   "outputs": [],
   "source": [
    "from cbd_client.client import CBDClient"
   ]
  },
  {
   "cell_type": "code",
   "execution_count": null,
   "id": "1c3a9e52",
   "metadata": {},
   "outputs": [],
   "source": [
    "client = CBDClient(\"http://34.89.95.140:5000/\")\n",
    "client.set_up_connection()"
   ]
  },
  {
   "cell_type": "code",
   "execution_count": null,
   "id": "9b044c59",
   "metadata": {},
   "outputs": [],
   "source": [
    "print(client.hello())"
   ]
  },
  {
   "cell_type": "code",
   "execution_count": null,
   "id": "dad3c155",
   "metadata": {},
   "outputs": [],
   "source": [
    "print(client.classify_string(\"blablablabla\"))\n",
    "print(client.get_model_info(\"xd\"))"
   ]
  },
  {
   "cell_type": "code",
   "execution_count": null,
   "id": "4a09e399",
   "metadata": {},
   "outputs": [],
   "source": [
    "print(client.classify_string(3))"
   ]
  }
 ],
 "metadata": {
  "kernelspec": {
   "display_name": "CBD_demo",
   "language": "python",
   "name": "cbd_demo"
  },
  "language_info": {
   "codemirror_mode": {
    "name": "ipython",
    "version": 3
   },
   "file_extension": ".py",
   "mimetype": "text/x-python",
   "name": "python",
   "nbconvert_exporter": "python",
   "pygments_lexer": "ipython3",
   "version": "3.8.10"
  }
 },
 "nbformat": 4,
 "nbformat_minor": 5
}
