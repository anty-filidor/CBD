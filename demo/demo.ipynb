{
 "cells": [
  {
   "cell_type": "code",
   "execution_count": 1,
   "id": "2a209f8c",
   "metadata": {},
   "outputs": [],
   "source": [
    "from cbd_client.client import CBDClient"
   ]
  },
  {
   "cell_type": "code",
   "execution_count": 2,
   "id": "1c3a9e52",
   "metadata": {},
   "outputs": [],
   "source": [
    "client = CBDClient(\"http://34.89.95.140:5000/\")\n",
    "client.set_up_connection()"
   ]
  },
  {
   "cell_type": "code",
   "execution_count": 3,
   "id": "9b044c59",
   "metadata": {},
   "outputs": [
    {
     "name": "stdout",
     "output_type": "stream",
     "text": [
      "Hello I'm Cyberbullying Detector!\n"
     ]
    }
   ],
   "source": [
    "print(client.hello())"
   ]
  },
  {
   "cell_type": "code",
   "execution_count": 12,
   "id": "dad3c155",
   "metadata": {},
   "outputs": [
    {
     "name": "stdout",
     "output_type": "stream",
     "text": [
      "non-harmful\n"
     ]
    }
   ],
   "source": [
    "print(client.classify_string(\"Lubię hodować rośliny, a szczególnie bzy!\"))"
   ]
  },
  {
   "cell_type": "code",
   "execution_count": 5,
   "id": "4a09e399",
   "metadata": {},
   "outputs": [
    {
     "name": "stdout",
     "output_type": "stream",
     "text": [
      "Unsuccessful request! \n",
      "\t error code: 500, \n",
      "\t response content b'<!DOCTYPE HTML PUBLIC \"-//W3C//DTD HTML 4.01 Transitional//EN\"\\n  \"http://www.w3.org/TR/html4/loose.dtd\">\\n<html>\\n  <head>\\n    <title>AttributeError: Input data {&#x27;text&#x27;: 3} has no field called &#x27;text&#x27; or that field is empty! // Werkzeug Debugger</title>\\n    <link rel=\"stylesheet\" href=\"?__debugger__=yes&amp;cmd=resource&amp;f=style.css\"\\n        type=\"text/css\">\\n    <!-- We need to make sure this has a favicon so that the debugger does\\n         not accidentally trigger a request to /favicon.ico which might\\n         change the application\\'s state. -->\\n    <link rel=\"shortcut icon\"\\n        href=\"?__debugger__=yes&amp;cmd=resource&amp;f=console.png\">\\n    <script src=\"?__debugger__=yes&amp;cmd=resource&amp;f=debugger.js\"></script>\\n    <script type=\"text/javascript\">\\n      var TRACEBACK = 139642230430912,\\n          CONSOLE_MODE = false,\\n          EVALEX = true,\\n          EVALEX_TRUSTED = false,\\n          SECRET = \"gb221CJ1r1QAHpibIbWP\";\\n    </script>\\n  </head>\\n  <body style=\"background-color: #fff\">\\n    <div class=\"debugger\">\\n<h1>AttributeError</h1>\\n<div class=\"detail\">\\n  <p class=\"errormsg\">AttributeError: Input data {&#x27;text&#x27;: 3} has no field called &#x27;text&#x27; or that field is empty!</p>\\n</div>\\n<h2 class=\"traceback\">Traceback <em>(most recent call last)</em></h2>\\n<div class=\"traceback\">\\n  <h3></h3>\\n  <ul><li><div class=\"frame\" id=\"frame-139642230428616\">\\n  <h4>File <cite class=\"filename\">\"/usr/local/lib/python3.6/site-packages/flask/app.py\"</cite>,\\n      line <em class=\"line\">2088</em>,\\n      in <code class=\"function\">__call__</code></h4>\\n  <div class=\"source library\"><pre class=\"line before\"><span class=\"ws\">    </span>def __call__(self, environ: dict, start_response: t.Callable) -&gt; t.Any:</pre>\\n<pre class=\"line before\"><span class=\"ws\">        </span>&quot;&quot;&quot;The WSGI server calls the Flask application object as the</pre>\\n<pre class=\"line before\"><span class=\"ws\">        </span>WSGI application. This calls :meth:`wsgi_app`, which can be</pre>\\n<pre class=\"line before\"><span class=\"ws\">        </span>wrapped to apply middleware.</pre>\\n<pre class=\"line before\"><span class=\"ws\">        </span>&quot;&quot;&quot;</pre>\\n<pre class=\"line current\"><span class=\"ws\">        </span>return self.wsgi_app(environ, start_response)</pre></div>\\n</div>\\n\\n<li><div class=\"frame\" id=\"frame-139642230428896\">\\n  <h4>File <cite class=\"filename\">\"/usr/local/lib/python3.6/site-packages/flask/app.py\"</cite>,\\n      line <em class=\"line\">2073</em>,\\n      in <code class=\"function\">wsgi_app</code></h4>\\n  <div class=\"source library\"><pre class=\"line before\"><span class=\"ws\">            </span>try:</pre>\\n<pre class=\"line before\"><span class=\"ws\">                </span>ctx.push()</pre>\\n<pre class=\"line before\"><span class=\"ws\">                </span>response = self.full_dispatch_request()</pre>\\n<pre class=\"line before\"><span class=\"ws\">            </span>except Exception as e:</pre>\\n<pre class=\"line before\"><span class=\"ws\">                </span>error = e</pre>\\n<pre class=\"line current\"><span class=\"ws\">                </span>response = self.handle_exception(e)</pre>\\n<pre class=\"line after\"><span class=\"ws\">            </span>except:  # noqa: B001</pre>\\n<pre class=\"line after\"><span class=\"ws\">                </span>error = sys.exc_info()[1]</pre>\\n<pre class=\"line after\"><span class=\"ws\">                </span>raise</pre>\\n<pre class=\"line after\"><span class=\"ws\">            </span>return response(environ, start_response)</pre>\\n<pre class=\"line after\"><span class=\"ws\">        </span>finally:</pre></div>\\n</div>\\n\\n<li><div class=\"frame\" id=\"frame-139642230431192\">\\n  <h4>File <cite class=\"filename\">\"/usr/local/lib/python3.6/site-packages/flask/app.py\"</cite>,\\n      line <em class=\"line\">2070</em>,\\n      in <code class=\"function\">wsgi_app</code></h4>\\n  <div class=\"source library\"><pre class=\"line before\"><span class=\"ws\">        </span>ctx = self.request_context(environ)</pre>\\n<pre class=\"line before\"><span class=\"ws\">        </span>error: t.Optional[BaseException] = None</pre>\\n<pre class=\"line before\"><span class=\"ws\">        </span>try:</pre>\\n<pre class=\"line before\"><span class=\"ws\">            </span>try:</pre>\\n<pre class=\"line before\"><span class=\"ws\">                </span>ctx.push()</pre>\\n<pre class=\"line current\"><span class=\"ws\">                </span>response = self.full_dispatch_request()</pre>\\n<pre class=\"line after\"><span class=\"ws\">            </span>except Exception as e:</pre>\\n<pre class=\"line after\"><span class=\"ws\">                </span>error = e</pre>\\n<pre class=\"line after\"><span class=\"ws\">                </span>response = self.handle_exception(e)</pre>\\n<pre class=\"line after\"><span class=\"ws\">            </span>except:  # noqa: B001</pre>\\n<pre class=\"line after\"><span class=\"ws\">                </span>error = sys.exc_info()[1]</pre></div>\\n</div>\\n\\n<li><div class=\"frame\" id=\"frame-139642230431472\">\\n  <h4>File <cite class=\"filename\">\"/usr/local/lib/python3.6/site-packages/flask/app.py\"</cite>,\\n      line <em class=\"line\">1515</em>,\\n      in <code class=\"function\">full_dispatch_request</code></h4>\\n  <div class=\"source library\"><pre class=\"line before\"><span class=\"ws\">            </span>request_started.send(self)</pre>\\n<pre class=\"line before\"><span class=\"ws\">            </span>rv = self.preprocess_request()</pre>\\n<pre class=\"line before\"><span class=\"ws\">            </span>if rv is None:</pre>\\n<pre class=\"line before\"><span class=\"ws\">                </span>rv = self.dispatch_request()</pre>\\n<pre class=\"line before\"><span class=\"ws\">        </span>except Exception as e:</pre>\\n<pre class=\"line current\"><span class=\"ws\">            </span>rv = self.handle_user_exception(e)</pre>\\n<pre class=\"line after\"><span class=\"ws\">        </span>return self.finalize_request(rv)</pre>\\n<pre class=\"line after\"><span class=\"ws\"></span> </pre>\\n<pre class=\"line after\"><span class=\"ws\">    </span>def finalize_request(</pre>\\n<pre class=\"line after\"><span class=\"ws\">        </span>self,</pre>\\n<pre class=\"line after\"><span class=\"ws\">        </span>rv: t.Union[ResponseReturnValue, HTTPException],</pre></div>\\n</div>\\n\\n<li><div class=\"frame\" id=\"frame-139642230428224\">\\n  <h4>File <cite class=\"filename\">\"/usr/local/lib/python3.6/site-packages/flask/app.py\"</cite>,\\n      line <em class=\"line\">1513</em>,\\n      in <code class=\"function\">full_dispatch_request</code></h4>\\n  <div class=\"source library\"><pre class=\"line before\"><span class=\"ws\">        </span>self.try_trigger_before_first_request_functions()</pre>\\n<pre class=\"line before\"><span class=\"ws\">        </span>try:</pre>\\n<pre class=\"line before\"><span class=\"ws\">            </span>request_started.send(self)</pre>\\n<pre class=\"line before\"><span class=\"ws\">            </span>rv = self.preprocess_request()</pre>\\n<pre class=\"line before\"><span class=\"ws\">            </span>if rv is None:</pre>\\n<pre class=\"line current\"><span class=\"ws\">                </span>rv = self.dispatch_request()</pre>\\n<pre class=\"line after\"><span class=\"ws\">        </span>except Exception as e:</pre>\\n<pre class=\"line after\"><span class=\"ws\">            </span>rv = self.handle_user_exception(e)</pre>\\n<pre class=\"line after\"><span class=\"ws\">        </span>return self.finalize_request(rv)</pre>\\n<pre class=\"line after\"><span class=\"ws\"></span> </pre>\\n<pre class=\"line after\"><span class=\"ws\">    </span>def finalize_request(</pre></div>\\n</div>\\n\\n<li><div class=\"frame\" id=\"frame-139642230431024\">\\n  <h4>File <cite class=\"filename\">\"/usr/local/lib/python3.6/site-packages/flask/app.py\"</cite>,\\n      line <em class=\"line\">1499</em>,\\n      in <code class=\"function\">dispatch_request</code></h4>\\n  <div class=\"source library\"><pre class=\"line before\"><span class=\"ws\">            </span>getattr(rule, &quot;provide_automatic_options&quot;, False)</pre>\\n<pre class=\"line before\"><span class=\"ws\">            </span>and req.method == &quot;OPTIONS&quot;</pre>\\n<pre class=\"line before\"><span class=\"ws\">        </span>):</pre>\\n<pre class=\"line before\"><span class=\"ws\">            </span>return self.make_default_options_response()</pre>\\n<pre class=\"line before\"><span class=\"ws\">        </span># otherwise dispatch to the handler for that endpoint</pre>\\n<pre class=\"line current\"><span class=\"ws\">        </span>return self.ensure_sync(self.view_functions[rule.endpoint])(**req.view_args)</pre>\\n<pre class=\"line after\"><span class=\"ws\"></span> </pre>\\n<pre class=\"line after\"><span class=\"ws\">    </span>def full_dispatch_request(self) -&gt; Response:</pre>\\n<pre class=\"line after\"><span class=\"ws\">        </span>&quot;&quot;&quot;Dispatches the request and on top of that performs request</pre>\\n<pre class=\"line after\"><span class=\"ws\">        </span>pre and postprocessing as well as HTTP exception catching and</pre>\\n<pre class=\"line after\"><span class=\"ws\">        </span>error handling.</pre></div>\\n</div>\\n\\n<li><div class=\"frame\" id=\"frame-139642230430856\">\\n  <h4>File <cite class=\"filename\">\"/usr/src/app/app/rest_api.py\"</cite>,\\n      line <em class=\"line\">47</em>,\\n      in <code class=\"function\">classify_string</code></h4>\\n  <div class=\"source \"><pre class=\"line before\"><span class=\"ws\">    </span>&quot;&quot;&quot;</pre>\\n<pre class=\"line before\"><span class=\"ws\">    </span>Run model on given string to check whether it is dangerous.</pre>\\n<pre class=\"line before\"><span class=\"ws\"></span> </pre>\\n<pre class=\"line before\"><span class=\"ws\">    </span>:return: str representation of class: &quot;non-harmful&quot;, &quot;cyberbullying&quot;, &quot;hate-speech&quot;</pre>\\n<pre class=\"line before\"><span class=\"ws\">    </span>&quot;&quot;&quot;</pre>\\n<pre class=\"line current\"><span class=\"ws\">    </span>return jsonify(model_handler.classify_text(request.json, model))</pre>\\n<pre class=\"line after\"><span class=\"ws\"></span> </pre>\\n<pre class=\"line after\"><span class=\"ws\"></span> </pre>\\n<pre class=\"line after\"><span class=\"ws\"></span>@app.route(&quot;/get_model_info/&lt;prop&gt;&quot;)</pre>\\n<pre class=\"line after\"><span class=\"ws\"></span>def get_model_info(prop: str) -&gt; flask.Response:</pre>\\n<pre class=\"line after\"><span class=\"ws\">    </span>&quot;&quot;&quot;</pre></div>\\n</div>\\n\\n<li><div class=\"frame\" id=\"frame-139642230429960\">\\n  <h4>File <cite class=\"filename\">\"/usr/src/app/app/model_handler.py\"</cite>,\\n      line <em class=\"line\">46</em>,\\n      in <code class=\"function\">classify_text</code></h4>\\n  <div class=\"source \"><pre class=\"line before\"><span class=\"ws\"></span> </pre>\\n<pre class=\"line before\"><span class=\"ws\">    </span>:return: dictionary with one item - &#x27;type&#x27; filled by human readable name of predicted</pre>\\n<pre class=\"line before\"><span class=\"ws\">            </span>class for given text</pre>\\n<pre class=\"line before\"><span class=\"ws\">    </span>&quot;&quot;&quot;</pre>\\n<pre class=\"line before\"><span class=\"ws\">    </span>log.info(f&quot;Passed following data for classification {raw_data}&quot;)</pre>\\n<pre class=\"line current\"><span class=\"ws\">    </span>raw_string = data_processing.unpack_input_data(raw_data)</pre>\\n<pre class=\"line after\"><span class=\"ws\"></span> </pre>\\n<pre class=\"line after\"><span class=\"ws\">    </span>pred_class = inference(raw_string, model)</pre>\\n<pre class=\"line after\"><span class=\"ws\">    </span>log.info(f&quot;Predicted string as {pred_class}&quot;)</pre>\\n<pre class=\"line after\"><span class=\"ws\"></span> </pre>\\n<pre class=\"line after\"><span class=\"ws\">    </span>return {&quot;type&quot;: pred_class}</pre></div>\\n</div>\\n\\n<li><div class=\"frame\" id=\"frame-139642230430968\">\\n  <h4>File <cite class=\"filename\">\"/usr/src/app/app/data_processing.py\"</cite>,\\n      line <em class=\"line\">20</em>,\\n      in <code class=\"function\">unpack_input_data</code></h4>\\n  <div class=\"source \"><pre class=\"line before\"><span class=\"ws\">    </span>text = data.get(&quot;text&quot;)</pre>\\n<pre class=\"line before\"><span class=\"ws\">    </span>if isinstance(text, str) and len(text) &gt; 0:</pre>\\n<pre class=\"line before\"><span class=\"ws\">        </span>return text</pre>\\n<pre class=\"line before\"><span class=\"ws\">    </span>else:</pre>\\n<pre class=\"line before\"><span class=\"ws\">        </span>raise AttributeError(</pre>\\n<pre class=\"line current\"><span class=\"ws\">            </span>f&quot;Input data {data} has no field called &#x27;text&#x27; or that field is empty!&quot;</pre>\\n<pre class=\"line after\"><span class=\"ws\">        </span>)</pre>\\n<pre class=\"line after\"><span class=\"ws\"></span> </pre>\\n<pre class=\"line after\"><span class=\"ws\"></span> </pre>\\n<pre class=\"line after\"><span class=\"ws\"></span>def convert_result(func: Callable) -&gt; Callable:</pre>\\n<pre class=\"line after\"><span class=\"ws\">    </span>&quot;&quot;&quot;</pre></div>\\n</div>\\n</ul>\\n  <blockquote>AttributeError: Input data {&#x27;text&#x27;: 3} has no field called &#x27;text&#x27; or that field is empty!</blockquote>\\n</div>\\n\\n<div class=\"plain\">\\n    <p>\\n      This is the Copy/Paste friendly version of the traceback.\\n    </p>\\n    <textarea cols=\"50\" rows=\"10\" name=\"code\" readonly>Traceback (most recent call last):\\n  File &quot;/usr/local/lib/python3.6/site-packages/flask/app.py&quot;, line 2088, in __call__\\n    return self.wsgi_app(environ, start_response)\\n  File &quot;/usr/local/lib/python3.6/site-packages/flask/app.py&quot;, line 2073, in wsgi_app\\n    response = self.handle_exception(e)\\n  File &quot;/usr/local/lib/python3.6/site-packages/flask/app.py&quot;, line 2070, in wsgi_app\\n    response = self.full_dispatch_request()\\n  File &quot;/usr/local/lib/python3.6/site-packages/flask/app.py&quot;, line 1515, in full_dispatch_request\\n    rv = self.handle_user_exception(e)\\n  File &quot;/usr/local/lib/python3.6/site-packages/flask/app.py&quot;, line 1513, in full_dispatch_request\\n    rv = self.dispatch_request()\\n  File &quot;/usr/local/lib/python3.6/site-packages/flask/app.py&quot;, line 1499, in dispatch_request\\n    return self.ensure_sync(self.view_functions[rule.endpoint])(**req.view_args)\\n  File &quot;/usr/src/app/app/rest_api.py&quot;, line 47, in classify_string\\n    return jsonify(model_handler.classify_text(request.json, model))\\n  File &quot;/usr/src/app/app/model_handler.py&quot;, line 46, in classify_text\\n    raw_string = data_processing.unpack_input_data(raw_data)\\n  File &quot;/usr/src/app/app/data_processing.py&quot;, line 20, in unpack_input_data\\n    f&quot;Input data {data} has no field called &#x27;text&#x27; or that field is empty!&quot;\\nAttributeError: Input data {&#x27;text&#x27;: 3} has no field called &#x27;text&#x27; or that field is empty!</textarea>\\n</div>\\n<div class=\"explanation\">\\n  The debugger caught an exception in your WSGI application.  You can now\\n  look at the traceback which led to the error.  <span class=\"nojavascript\">\\n  If you enable JavaScript you can also use additional features such as code\\n  execution (if the evalex feature is enabled), automatic pasting of the\\n  exceptions and much more.</span>\\n</div>\\n      <div class=\"footer\">\\n        Brought to you by <strong class=\"arthur\">DON\\'T PANIC</strong>, your\\n        friendly Werkzeug powered traceback interpreter.\\n      </div>\\n    </div>\\n\\n    <div class=\"pin-prompt\">\\n      <div class=\"inner\">\\n        <h3>Console Locked</h3>\\n        <p>\\n          The console is locked and needs to be unlocked by entering the PIN.\\n          You can find the PIN printed out on the standard output of your\\n          shell that runs the server.\\n        <form>\\n          <p>PIN:\\n            <input type=text name=pin size=14>\\n            <input type=submit name=btn value=\"Confirm Pin\">\\n        </form>\\n      </div>\\n    </div>\\n  </body>\\n</html>\\n\\n<!--\\n\\nTraceback (most recent call last):\\n  File \"/usr/local/lib/python3.6/site-packages/flask/app.py\", line 2088, in __call__\\n    return self.wsgi_app(environ, start_response)\\n  File \"/usr/local/lib/python3.6/site-packages/flask/app.py\", line 2073, in wsgi_app\\n    response = self.handle_exception(e)\\n  File \"/usr/local/lib/python3.6/site-packages/flask/app.py\", line 2070, in wsgi_app\\n    response = self.full_dispatch_request()\\n  File \"/usr/local/lib/python3.6/site-packages/flask/app.py\", line 1515, in full_dispatch_request\\n    rv = self.handle_user_exception(e)\\n  File \"/usr/local/lib/python3.6/site-packages/flask/app.py\", line 1513, in full_dispatch_request\\n    rv = self.dispatch_request()\\n  File \"/usr/local/lib/python3.6/site-packages/flask/app.py\", line 1499, in dispatch_request\\n    return self.ensure_sync(self.view_functions[rule.endpoint])(**req.view_args)\\n  File \"/usr/src/app/app/rest_api.py\", line 47, in classify_string\\n    return jsonify(model_handler.classify_text(request.json, model))\\n  File \"/usr/src/app/app/model_handler.py\", line 46, in classify_text\\n    raw_string = data_processing.unpack_input_data(raw_data)\\n  File \"/usr/src/app/app/data_processing.py\", line 20, in unpack_input_data\\n    f\"Input data {data} has no field called \\'text\\' or that field is empty!\"\\nAttributeError: Input data {\\'text\\': 3} has no field called \\'text\\' or that field is empty!\\n\\n-->\\n'\n"
     ]
    }
   ],
   "source": [
    "print(client.classify_string(3))"
   ]
  },
  {
   "cell_type": "code",
   "execution_count": 9,
   "id": "08b8d9c4",
   "metadata": {},
   "outputs": [
    {
     "name": "stdout",
     "output_type": "stream",
     "text": [
      "[('vect', CountVectorizer(lowercase=False,\n",
      "                tokenizer=<function do_nothing at 0x7f0100449e18>)), ('tfidf', TfidfTransformer()), ('clf', LinearSVC(class_weight='balanced'))]\n"
     ]
    }
   ],
   "source": [
    "print(client.get_model_info(\"steps\"))"
   ]
  },
  {
   "cell_type": "code",
   "execution_count": null,
   "id": "5931feba",
   "metadata": {},
   "outputs": [],
   "source": []
  }
 ],
 "metadata": {
  "kernelspec": {
   "display_name": "CBD_demo",
   "language": "python",
   "name": "cbd_demo"
  },
  "language_info": {
   "codemirror_mode": {
    "name": "ipython",
    "version": 3
   },
   "file_extension": ".py",
   "mimetype": "text/x-python",
   "name": "python",
   "nbconvert_exporter": "python",
   "pygments_lexer": "ipython3",
   "version": "3.8.10"
  }
 },
 "nbformat": 4,
 "nbformat_minor": 5
}
