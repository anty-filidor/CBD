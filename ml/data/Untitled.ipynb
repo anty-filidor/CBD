{
 "cells": [
  {
   "cell_type": "markdown",
   "id": "9e96b4dc",
   "metadata": {},
   "source": [
    "## Imports & paths definition"
   ]
  },
  {
   "cell_type": "code",
   "execution_count": 13,
   "id": "cca2c128",
   "metadata": {},
   "outputs": [],
   "source": [
    "import os\n",
    "import re\n",
    "\n",
    "import pandas as pd\n",
    "import matplotlib.pyplot as plt\n",
    "\n",
    "%config Completer.use_jedi = False"
   ]
  },
  {
   "cell_type": "code",
   "execution_count": 14,
   "id": "bb2e575a",
   "metadata": {},
   "outputs": [],
   "source": [
    "x_train_path = 'train/training_set_clean_only_text.txt'\n",
    "y_train_path = 'train/training_set_clean_only_tags.txt'\n",
    "\n",
    "x_test_path = 'test/test_set_only_text.txt'\n",
    "y_test_path = 'test/test_set_only_tags.txt'"
   ]
  },
  {
   "cell_type": "markdown",
   "id": "4b1ad3b7",
   "metadata": {},
   "source": [
    "## Reading train data"
   ]
  },
  {
   "cell_type": "code",
   "execution_count": 17,
   "id": "35720675",
   "metadata": {},
   "outputs": [
    {
     "name": "stdout",
     "output_type": "stream",
     "text": [
      ".@anonymized_account pojawił się na TT. To konto to nie fejk. \\nDołączajcie :) 💪\n",
      "RT .@anonymized_account pojawił się na TT. To konto to nie fejk. \\nDołączajcie :) 💪\n",
      "Nowe chodnikowe powiedzonko brzmi:\\n\\nPierdolisz jak Morawiecki, realy.\\n\\n@anonymized_account \\n\\nHybryda głupoty.\n",
      "RT Nowe chodnikowe powiedzonko brzmi:\\n\\nPierdolisz jak Morawiecki, realy.\\n\\n@anonymized_account \\n\\nHybryda głupoty.\n",
      ".@anonymized_account Będziemy realizować przekop Mierzei Wiślanej \\n#wieszwiecej \\nhttps://t.co/zuCXxG1GUr\n",
      "RT .@anonymized_account Będziemy realizować przekop Mierzei Wiślanej \\n#wieszwiecej \\nhttps://t.co/zuCXxG1GUr\n",
      "problemem jest to że jak sobie coś ubzdurasz to myślisz że zawsze masz racje bo jesteś wszechwiedzący@anonymized_account\n",
      "a co jesteś jego agentem że taki poinformowany ? 😂@anonymized_account\n",
      "to ty chłopie nie płacz że mamy takie legendy.A wy macie kogo ? PiotraBanie ?@anonymized_account\n",
      ".@anonymized_account prof. Z. #Krysiak - 21:50 #BezRetuszu zapraszamy!\n",
      "RT .@anonymized_account prof. Z. #Krysiak - 21:50 #BezRetuszu zapraszamy!\n",
      ".@anonymized_account powołany do kadry U-20 na mecze z Włochami i Szwajcarią! 👏👏👏👏\n",
      "Hehehehehe!!!!!!!!@anonymized_account Rozumu wam nie zabiorą bo go NIE MACIE matoły!!!!!!\n",
      "Akcja policji w budynkach Wisły Kraków ma związek z śledztwem dotyczącym kradzieży flag GKS Katowice. @\n",
      "Rostowski rozjebie was na komisji vat@anonymized_account\n",
      "Zakończmy to z wypierdem.\\n\\n@anonymized_account #NBAVOTE \\n\\nDaj RT. Każdy twój RT to głos na Marcina.\n",
      "RT Zakończmy to z wypierdem.\\n\\n@anonymized_account #NBAVOTE \\n\\nDaj RT. Każdy twój RT to głos na Marcina.\n",
      "Préstamo a un año con opción de compra para Ever Valencia y Cristian Echavarria al Wisla Cracovia de Polonia\\n@anonymized_account\n",
      "RT Préstamo a un año con opción de compra para Ever Valencia y Cristian Echavarria al Wisla Cracovia de Polonia\\n@anonymized_account\n",
      "Napisz jeszcze jednego maila z numerem transakcji i danymi do faktury na bilety@anonymized_account Sprawa jest znana.\n",
      "🇵🇱 #mercadoEPEM | Pol Llonch (24) [@anonymized_account es nuevo jugador del Wisla de Cracovia. Jugaba en el Girona de la 2ª división.\n",
      "RT 🇵🇱 #mercadoEPEM | Pol Llonch (24) [@anonymized_account es nuevo jugador del Wisla de Cracovia. Jugaba en el Girona de la 2ª divi…\n",
      ".@anonymized_account do internautów: Jeśli wygram, Polacy dowiedzą się, na co szły pieniądze z podatków\\n#wieszwiecej \\nhttps://t.co/1WEcbcTr7U\n",
      "RT .@anonymized_account do internautów: Jeśli wygram, Polacy dowiedzą się, na co szły pieniądze z podatków\\n#wieszwiecej \\nhttps://t.co/1W…\n",
      ".@anonymized_account Dwukrotnie zamówili szkła o złej wadzie, raz uszkodzili przy montażu. Czekam miesiąc. Zero poczucia winy. Odradzam.👎😡\n",
      "och, czyli wszystko przed Panem :-)\\n@anonymized_account\n",
      "Jest decyzja sądu ws. Stanisława Gawłowskiego. Polityk PO idzie do więzienia\\n@anonymized_account #wieszwiecej\\nhttps://t.co/evVvuT3qZO\n",
      "RT Jest decyzja sądu ws. Stanisława Gawłowskiego. Polityk PO idzie do więzienia\\n@anonymized_account #wieszwiecej\\nhttps://t.co/evVvuT3qZO\n",
      "to ptaszek twitterowy ;-) \\n@anonymized_account\n",
      "Hehehehehe.A pani@anonymized_account jak zwykle w gigantycznej formie intelektualnej😁😁\n",
      ".@anonymized_account \\\"Napisałbym gdzieś, że mi dobrze bez mediów społecznościowych, ale nie mam gdzie\\\". \\nKazał Was pozdrowić ;-)\n"
     ]
    }
   ],
   "source": [
    "with open(x_train_path, 'r') as file:\n",
    "    _xtr = file.readlines()\n",
    "\n",
    "xtr = []\n",
    "for tweet in _xtr:\n",
    "    preprocessed_tweet = \" \".join(\n",
    "        [_ for _ in re.split('\\n| |\\t', tweet) if _ not in (\"@anonymized_account\", \"\")]\n",
    "    )\n",
    "    preprocessed_tweet.replace('.@anonymized_account', '')\n",
    "    if '@' in preprocessed_tweet:\n",
    "        print(preprocessed_tweet)\n",
    "    xtr.append(preprocessed_tweet)\n",
    "\n",
    "\n",
    "\n",
    "with open(y_train_path, 'r') as file:\n",
    "    ytr = file.readlines()\n",
    "\n",
    "\n",
    "train_df = pd.DataFrame({\"y\": ytr, \"x\": xtr})\n",
    "train_df = train_df.astype({'y': 'int32', \"x\": \"str\"})"
   ]
  },
  {
   "cell_type": "code",
   "execution_count": 4,
   "id": "c6561b50",
   "metadata": {},
   "outputs": [
    {
     "data": {
      "text/html": [
       "<div>\n",
       "<style scoped>\n",
       "    .dataframe tbody tr th:only-of-type {\n",
       "        vertical-align: middle;\n",
       "    }\n",
       "\n",
       "    .dataframe tbody tr th {\n",
       "        vertical-align: top;\n",
       "    }\n",
       "\n",
       "    .dataframe thead th {\n",
       "        text-align: right;\n",
       "    }\n",
       "</style>\n",
       "<table border=\"1\" class=\"dataframe\">\n",
       "  <thead>\n",
       "    <tr style=\"text-align: right;\">\n",
       "      <th></th>\n",
       "      <th>y</th>\n",
       "    </tr>\n",
       "  </thead>\n",
       "  <tbody>\n",
       "    <tr>\n",
       "      <th>count</th>\n",
       "      <td>10041.000000</td>\n",
       "    </tr>\n",
       "    <tr>\n",
       "      <th>mean</th>\n",
       "      <td>0.144308</td>\n",
       "    </tr>\n",
       "    <tr>\n",
       "      <th>std</th>\n",
       "      <td>0.492564</td>\n",
       "    </tr>\n",
       "    <tr>\n",
       "      <th>min</th>\n",
       "      <td>0.000000</td>\n",
       "    </tr>\n",
       "    <tr>\n",
       "      <th>25%</th>\n",
       "      <td>0.000000</td>\n",
       "    </tr>\n",
       "    <tr>\n",
       "      <th>50%</th>\n",
       "      <td>0.000000</td>\n",
       "    </tr>\n",
       "    <tr>\n",
       "      <th>75%</th>\n",
       "      <td>0.000000</td>\n",
       "    </tr>\n",
       "    <tr>\n",
       "      <th>max</th>\n",
       "      <td>2.000000</td>\n",
       "    </tr>\n",
       "  </tbody>\n",
       "</table>\n",
       "</div>"
      ],
      "text/plain": [
       "                  y\n",
       "count  10041.000000\n",
       "mean       0.144308\n",
       "std        0.492564\n",
       "min        0.000000\n",
       "25%        0.000000\n",
       "50%        0.000000\n",
       "75%        0.000000\n",
       "max        2.000000"
      ]
     },
     "execution_count": 4,
     "metadata": {},
     "output_type": "execute_result"
    }
   ],
   "source": [
    "train_df.describe()"
   ]
  },
  {
   "cell_type": "code",
   "execution_count": 5,
   "id": "e464d8ab",
   "metadata": {},
   "outputs": [
    {
     "data": {
      "image/png": "[encoded data removed]",
      "text/plain": [
       "<Figure size 432x288 with 1 Axes>"
      ]
     },
     "metadata": {
      "needs_background": "light"
     },
     "output_type": "display_data"
    }
   ],
   "source": [
    "fig, ax = plt.subplots()\n",
    "train_df['y'].value_counts().plot(ax=ax, kind='bar')\n",
    "ax.set_ylabel('Frequency')\n",
    "ax.set_xlabel('Class index')\n",
    "ax.set_title('Distribution of classes in training dataset')\n",
    "plt.show()"
   ]
  },
  {
   "cell_type": "markdown",
   "id": "58ab9b12",
   "metadata": {},
   "source": [
    "## Reading test data"
   ]
  },
  {
   "cell_type": "code",
   "execution_count": 6,
   "id": "adfdc26b",
   "metadata": {},
   "outputs": [],
   "source": [
    "with open(x_test_path, 'r') as file:\n",
    "    _xte = file.readlines()\n",
    "\n",
    "xte = []\n",
    "for tweet in _xte:\n",
    "    preprocessed_tweet = \" \".join(\n",
    "        [_ for _ in re.split('\\n| |\\t', tweet) if _ not in (\"@anonymized_account\", \"\")]\n",
    "    )\n",
    "    xte.append(preprocessed_tweet)\n",
    "\n",
    "\n",
    "\n",
    "with open(y_test_path, 'r') as file:\n",
    "    yte = file.readlines()\n",
    "\n",
    "\n",
    "test_df = pd.DataFrame({\"y\": yte, \"x\": xte})\n",
    "test_df = test_df.astype({'y': 'int32', \"x\": \"str\"})"
   ]
  },
  {
   "cell_type": "code",
   "execution_count": 7,
   "id": "14b9d92f",
   "metadata": {},
   "outputs": [
    {
     "data": {
      "text/html": [
       "<div>\n",
       "<style scoped>\n",
       "    .dataframe tbody tr th:only-of-type {\n",
       "        vertical-align: middle;\n",
       "    }\n",
       "\n",
       "    .dataframe tbody tr th {\n",
       "        vertical-align: top;\n",
       "    }\n",
       "\n",
       "    .dataframe thead th {\n",
       "        text-align: right;\n",
       "    }\n",
       "</style>\n",
       "<table border=\"1\" class=\"dataframe\">\n",
       "  <thead>\n",
       "    <tr style=\"text-align: right;\">\n",
       "      <th></th>\n",
       "      <th>y</th>\n",
       "    </tr>\n",
       "  </thead>\n",
       "  <tbody>\n",
       "    <tr>\n",
       "      <th>count</th>\n",
       "      <td>1000.000000</td>\n",
       "    </tr>\n",
       "    <tr>\n",
       "      <th>mean</th>\n",
       "      <td>0.243000</td>\n",
       "    </tr>\n",
       "    <tr>\n",
       "      <th>std</th>\n",
       "      <td>0.634313</td>\n",
       "    </tr>\n",
       "    <tr>\n",
       "      <th>min</th>\n",
       "      <td>0.000000</td>\n",
       "    </tr>\n",
       "    <tr>\n",
       "      <th>25%</th>\n",
       "      <td>0.000000</td>\n",
       "    </tr>\n",
       "    <tr>\n",
       "      <th>50%</th>\n",
       "      <td>0.000000</td>\n",
       "    </tr>\n",
       "    <tr>\n",
       "      <th>75%</th>\n",
       "      <td>0.000000</td>\n",
       "    </tr>\n",
       "    <tr>\n",
       "      <th>max</th>\n",
       "      <td>2.000000</td>\n",
       "    </tr>\n",
       "  </tbody>\n",
       "</table>\n",
       "</div>"
      ],
      "text/plain": [
       "                 y\n",
       "count  1000.000000\n",
       "mean      0.243000\n",
       "std       0.634313\n",
       "min       0.000000\n",
       "25%       0.000000\n",
       "50%       0.000000\n",
       "75%       0.000000\n",
       "max       2.000000"
      ]
     },
     "execution_count": 7,
     "metadata": {},
     "output_type": "execute_result"
    }
   ],
   "source": [
    "test_df.describe()"
   ]
  },
  {
   "cell_type": "code",
   "execution_count": 8,
   "id": "e7920e88",
   "metadata": {},
   "outputs": [
    {
     "data": {
      "image/png": "[encoded data removed]",
      "text/plain": [
       "<Figure size 432x288 with 1 Axes>"
      ]
     },
     "metadata": {
      "needs_background": "light"
     },
     "output_type": "display_data"
    }
   ],
   "source": [
    "fig, ax = plt.subplots()\n",
    "test_df['y'].value_counts().plot(ax=ax, kind='bar')\n",
    "ax.set_ylabel('Frequency')\n",
    "ax.set_xlabel('Class index')\n",
    "ax.set_title('Distribution of classes in testing dataset')\n",
    "plt.show()"
   ]
  }
 ],
 "metadata": {
  "kernelspec": {
   "display_name": "CBD",
   "language": "python",
   "name": "cbd"
  },
  "language_info": {
   "codemirror_mode": {
    "name": "ipython",
    "version": 3
   },
   "file_extension": ".py",
   "mimetype": "text/x-python",
   "name": "python",
   "nbconvert_exporter": "python",
   "pygments_lexer": "ipython3",
   "version": "3.6.9"
  }
 },
 "nbformat": 4,
 "nbformat_minor": 5
}
